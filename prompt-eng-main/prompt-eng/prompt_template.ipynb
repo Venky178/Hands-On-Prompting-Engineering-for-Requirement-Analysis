{
 "cells": [
  {
   "cell_type": "markdown",
   "metadata": {},
   "source": [
    "\n",
    "\n"
   ]
  },
  {
   "cell_type": "markdown",
   "metadata": {},
   "source": [
    "# Prompt Template Prompting\n",
    "\n",
    "Prompt Template Prompting refers to a technique where predefined templates are used to construct effective prompts that guide large language models (LLMs) to generate responses tailored to specific use cases. The templates typically contain static text combined with dynamic input variables, allowing for consistent, reusable, and customizable prompts.\n",
    "\n",
    "Prompt templates are widely used across various domains, such as:\n",
    "* **Question Generation**: Templates can generate quiz questions by filling in variables related to topics.\n",
    "* **Text Summarization**: Static instructions combined with variable documents or inputs allow flexible summarization.\n",
    "* **Coding Assistance**: Dynamic prompts help LLMs generate code snippets for different programming tasks.\n",
    "\n",
    "## References:\n",
    "\n",
    "* (OpenAI Documentation for Prompt Engineering)[https://platform.openai.com/docs/guides/prompt-engineering]"
   ]
  },
  {
   "cell_type": "markdown",
   "metadata": {},
   "source": [
    "## Running this code on MyBind.org\n",
    "\n",
    "Note: remember that you will need to **adjust CONFIG** with **proper URL and API_KEY**!\n",
    "\n",
    "[![Binder](https://mybinder.org/badge_logo.svg)](https://mybinder.org/v2/gh/GenILab-FAU/prompt-eng/HEAD?urlpath=%2Fdoc%2Ftree%2Fprompt-eng%2Fprompt_template.ipynb)\n"
   ]
  },
  {
   "cell_type": "code",
   "execution_count": 7,
   "metadata": {},
   "outputs": [
    {
     "name": "stdout",
     "output_type": "stream",
     "text": [
      "{'model': 'llama3.2:latest', 'prompt': \"\\nProvide a requirement analysis for building a nutrition and fitness bot that uses Prompt Templates. The bot should have reusable templates that can be dynamically filled with user-specific information. For example:\\n\\nTemplate: 'For a AGE-year-old aiming for GOAL, here’s a suggested daily caloric intake and exercise routine:'\\nThe bot will fill in the user’s details and generate a personalized recommendation for their goal (e.g., weight loss, muscle gain, fitness maintenance). The bot should dynamically generate responses based on template structures that can be adapted for different user goals.\", 'stream': False, 'options': {'temperature': 1.0, 'num_ctx': 100, 'num_predict': 100}}\n",
      "Here's an example of how you could implement this using Python:\n",
      "\n",
      "```python\n",
      "class Goal:\n",
      "    def __init__(self, name, description, target_value):\n",
      "        self.name = name\n",
      "        self.description = description\n",
      "        self.target_value = target_value\n",
      "\n",
      "class Workout:\n",
      "    def __init__(self, name, duration, intensity):\n",
      "        self.name = name\n",
      "        self.duration = duration\n",
      "        self.intensity = intensity\n",
      "\n",
      "    @property\n",
      "    def total_time(self):\n",
      "        return\n",
      "Time taken: 95.053s\n"
     ]
    }
   ],
   "source": [
    "\n",
    "##\n",
    "## PROMPT TEMPLATE PROMPTING - NUTRITION & FITNESS BOT\n",
    "##\n",
    "\n",
    "from _pipeline import create_payload, model_req\n",
    "\n",
    "#### (1) Adjust the inbounding Prompt, simulating inbounding requests from users or other systems\n",
    "#MESSAGE = \"How much protein is in 100g of almonds?\"\n",
    "\n",
    "#### (2) Apply the Prompt Engineering Technique Using a Template  \n",
    "TEMPLATE_BEFORE =\\\n",
    "f\"\"\"\n",
    "Provide a requirement analysis for building a nutrition and fitness bot that uses Prompt Templates. The bot should have reusable templates that can be dynamically filled with user-specific information. For example:\n",
    "\n",
    "Template: 'For a AGE-year-old aiming for GOAL, here’s a suggested daily caloric intake and exercise routine:'\n",
    "The bot will fill in the user’s details and generate a personalized recommendation for their goal (e.g., weight loss, muscle gain, fitness maintenance). The bot should dynamically generate responses based on template structures that can be adapted for different user goals.\"\"\"\n",
    "\n",
    "PROMPT = TEMPLATE_BEFORE \n",
    "\n",
    "\n",
    "\n",
    "#### (3) Configure the Model request, simulating Workflow Orchestration\n",
    "# Documentation: https://github.com/ollama/ollama/blob/main/docs/api.md\n",
    "payload = create_payload(target=\"ollama\",\n",
    "                         model=\"llama3.2:latest\", \n",
    "                         prompt=PROMPT, \n",
    "                         temperature=1.0, \n",
    "                         num_ctx=100, \n",
    "                         num_predict=100)\n",
    "\n",
    "### YOU DONT NEED TO CONFIGURE ANYTHING ELSE FROM THIS POINT\n",
    "# Send out to the model\n",
    "time, response = model_req(payload=payload)\n",
    "print(response)\n",
    "if time: print(f'Time taken: {time}s')"
   ]
  },
  {
   "cell_type": "code",
   "execution_count": null,
   "metadata": {},
   "outputs": [],
   "source": []
  }
 ],
 "metadata": {
  "kernelspec": {
   "display_name": "base",
   "language": "python",
   "name": "python3"
  },
  "language_info": {
   "codemirror_mode": {
    "name": "ipython",
    "version": 3
   },
   "file_extension": ".py",
   "mimetype": "text/x-python",
   "name": "python",
   "nbconvert_exporter": "python",
   "pygments_lexer": "ipython3",
   "version": "3.12.4"
  }
 },
 "nbformat": 4,
 "nbformat_minor": 2
}
