{
 "cells": [
  {
   "cell_type": "code",
   "execution_count": 10,
   "metadata": {},
   "outputs": [
    {
     "name": "stdout",
     "output_type": "stream",
     "text": [
      "{'model': 'llama3.2:latest', 'prompt': \"\\nProvide a requirement analysis for building a nutrition and fitness bot that uses Contrastive Prompting. The bot should compare two or more choices and contrast their merits. For example, when asked about the difference between two exercises or two types of diets, the bot should provide a clear and detailed comparison based on factors such as effectiveness, sustainability, and impact on the user's goal. For example:\\n\\nUser asks: 'Which is better for weight loss, cardio or strength training?'\\nBot responds by contrasting both approaches, outlining how cardio helps with calorie burn while strength training helps build muscle mass, and combining both for optimal results. The bot should offer pros and cons for each option and help the user make informed decisions.\\n\", 'stream': False, 'options': {'temperature': 1.0, 'num_ctx': 50, 'num_predict': 50}}\n",
      "**Weight Loss Methods: Weighing the Pros and Cons of Exercise and Diet Only vs. Combination Approach**\n",
      "\n",
      "Are you struggling to lose weight? You're not alone. Millions of people around the world are on a journey to shed unwanted pounds, but\n",
      "Time taken: 33.676s\n"
     ]
    }
   ],
   "source": [
    "##\n",
    "## CONTRASTIVE PROMPTING - NUTRITION & FITNESS BOT\n",
    "##\n",
    "from _pipeline import create_payload, model_req\n",
    "\n",
    "PROMPT = f\"\"\"\n",
    "Provide a requirement analysis for building a nutrition and fitness bot that uses Contrastive Prompting. The bot should compare two or more choices and contrast their merits. For example, when asked about the difference between two exercises or two types of diets, the bot should provide a clear and detailed comparison based on factors such as effectiveness, sustainability, and impact on the user's goal. For example:\n",
    "\n",
    "User asks: 'Which is better for weight loss, cardio or strength training?'\n",
    "Bot responds by contrasting both approaches, outlining how cardio helps with calorie burn while strength training helps build muscle mass, and combining both for optimal results. The bot should offer pros and cons for each option and help the user make informed decisions.\n",
    "\"\"\"\n",
    "\n",
    "\n",
    "payload = create_payload(target=\"ollama\",\n",
    "                         model=\"llama3.2:latest\", \n",
    "                         prompt=PROMPT, \n",
    "                         temperature=1.0, \n",
    "                         num_ctx=50, \n",
    "                         num_predict=50)\n",
    "\n",
    "time, response = model_req(payload=payload)\n",
    "print(response)\n",
    "if time: print(f'Time taken: {time}s')\n"
   ]
  },
  {
   "cell_type": "markdown",
   "metadata": {},
   "source": [
    "**Contrastive Prompting - Nutrition & Fitness Bot**\n",
    "(A New Prompt Engineering Technique Not Listed Above!)\n",
    "Contrastive prompting involves presenting multiple possible answers and having the model contrast them to determine the best one."
   ]
  },
  {
   "cell_type": "markdown",
   "metadata": {},
   "source": []
  },
  {
   "cell_type": "markdown",
   "metadata": {},
   "source": [
    "Why Use Contrastive Prompting?\n",
    "✅ Helps users compare two or more choices effectively.\n",
    "✅ Encourages the model to weigh pros and cons before giving an answer.\n",
    "✅ Enhances decision-making by offering side-by-side comparisons."
   ]
  },
  {
   "cell_type": "markdown",
   "metadata": {},
   "source": []
  }
 ],
 "metadata": {
  "kernelspec": {
   "display_name": "base",
   "language": "python",
   "name": "python3"
  },
  "language_info": {
   "codemirror_mode": {
    "name": "ipython",
    "version": 3
   },
   "file_extension": ".py",
   "mimetype": "text/x-python",
   "name": "python",
   "nbconvert_exporter": "python",
   "pygments_lexer": "ipython3",
   "version": "3.12.4"
  }
 },
 "nbformat": 4,
 "nbformat_minor": 2
}
