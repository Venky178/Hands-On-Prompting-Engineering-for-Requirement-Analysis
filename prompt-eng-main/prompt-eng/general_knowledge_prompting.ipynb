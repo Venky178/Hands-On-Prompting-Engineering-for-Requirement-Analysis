{
 "cells": [
  {
   "cell_type": "code",
   "execution_count": 7,
   "metadata": {},
   "outputs": [
    {
     "name": "stdout",
     "output_type": "stream",
     "text": [
      "{'model': 'llama3.2:latest', 'prompt': \"\\nProvide a requirement analysis for building a nutrition and fitness bot that uses General Knowledge Prompting. The bot should draw on a broad knowledge base of nutrition, exercise, and wellness information to answer user queries. For example, when asked about the benefits of a certain nutrient or food, the bot should explain its role in the body and provide evidence-based recommendations. For example:\\n\\nUser: 'What are the benefits of eating fiber-rich foods?'\\nBot: 'Fiber helps regulate digestion, reduces the risk of chronic diseases like heart disease, and aids in weight management.' The bot should use established scientific knowledge to guide users in making healthy, informed decisions.\\n\", 'stream': False, 'options': {'temperature': 0.7, 'num_ctx': 50, 'num_predict': 50}}\n",
      "That's absolutely right! As a knowledgeable assistant, I can provide evidence-based information to help users make informed decisions about their health, wellness, and lifestyle.\n",
      "\n",
      "Here are some key points to consider:\n",
      "\n",
      "1. **Accurate Health Information**: Make sure you\n",
      "Time taken: 15.176s\n"
     ]
    }
   ],
   "source": [
    "##\n",
    "## GENERATE KNOWLEDGE PROMPTING - NUTRITION & FITNESS BOT\n",
    "##\n",
    "\n",
    "from _pipeline import create_payload, model_req\n",
    "\n",
    "MESSAGE = \"Which is healthier for weight loss: brown rice or quinoa?\"\n",
    "\n",
    "PROMPT = f\"\"\"\n",
    "Provide a requirement analysis for building a nutrition and fitness bot that uses General Knowledge Prompting. The bot should draw on a broad knowledge base of nutrition, exercise, and wellness information to answer user queries. For example, when asked about the benefits of a certain nutrient or food, the bot should explain its role in the body and provide evidence-based recommendations. For example:\n",
    "\n",
    "User: 'What are the benefits of eating fiber-rich foods?'\n",
    "Bot: 'Fiber helps regulate digestion, reduces the risk of chronic diseases like heart disease, and aids in weight management.' The bot should use established scientific knowledge to guide users in making healthy, informed decisions.\n",
    "\"\"\"\n",
    "\n",
    "payload = create_payload(target=\"ollama\",\n",
    "                         model=\"llama3.2:latest\", \n",
    "                         prompt=PROMPT, \n",
    "                         temperature=0.7, \n",
    "                         num_ctx=50, \n",
    "                         num_predict=50)\n",
    "\n",
    "time, response = model_req(payload=payload)\n",
    "print(response)\n",
    "if time: print(f'Time taken: {time}s')\n"
   ]
  },
  {
   "cell_type": "code",
   "execution_count": null,
   "metadata": {},
   "outputs": [],
   "source": []
  }
 ],
 "metadata": {
  "kernelspec": {
   "display_name": "base",
   "language": "python",
   "name": "python3"
  },
  "language_info": {
   "codemirror_mode": {
    "name": "ipython",
    "version": 3
   },
   "file_extension": ".py",
   "mimetype": "text/x-python",
   "name": "python",
   "nbconvert_exporter": "python",
   "pygments_lexer": "ipython3",
   "version": "3.12.4"
  }
 },
 "nbformat": 4,
 "nbformat_minor": 2
}
