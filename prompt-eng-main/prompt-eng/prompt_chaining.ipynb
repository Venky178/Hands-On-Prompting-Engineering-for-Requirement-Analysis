{
 "cells": [
  {
   "cell_type": "code",
   "execution_count": 6,
   "metadata": {},
   "outputs": [
    {
     "name": "stdout",
     "output_type": "stream",
     "text": [
      "{'model': 'llama3.2:latest', 'prompt': 'Provide a requirement analysis for building a nutrition and fitness bot that uses Prompt Chaining.', 'stream': False, 'options': {'temperature': 0.7, 'num_ctx': 100, 'num_predict': 50}}\n",
      "Here's a requirement analysis for building a nutrition and fitness bot using Prompt Chaining:\n",
      "\n",
      "**Overview**\n",
      "\n",
      "The nutrition and fitness bot aims to provide personalized advice and guidance to users on maintaining a healthy lifestyle through nutrition and exercise. The bot will use Prompt Ch\n",
      "{'model': 'llama3.2:latest', 'prompt': \"Based on the previous response, refine the requirements further to enhance user experience.\\nHere's a requirement analysis for building a nutrition and fitness bot using Prompt Chaining:\\n\\n**Overview**\\n\\nThe nutrition and fitness bot aims to provide personalized advice and guidance to users on maintaining a healthy lifestyle through nutrition and exercise. The bot will use Prompt Ch\", 'stream': False, 'options': {'temperature': 0.7, 'num_ctx': 100, 'num_predict': 10}}\n",
      "I'd be happy to help refine the requirements further\n",
      "Time taken: 9.476s\n"
     ]
    }
   ],
   "source": [
    "##\n",
    "## PROMPT CHAINING - NUTRITION & FITNESS BOT\n",
    "##\n",
    "\n",
    "from _pipeline import create_payload, model_req\n",
    "\n",
    "# Define the initial prompts\n",
    "FIRST_PROMPT = \"Provide a requirement analysis for building a nutrition and fitness bot that uses Prompt Chaining.\"\n",
    "SECOND_PROMPT = \"Based on the previous response, refine the requirements further to enhance user experience.\"\n",
    "\n",
    "# Create the first payload\n",
    "payload_1 = create_payload(target=\"ollama\",\n",
    "                           model=\"llama3.2:latest\", \n",
    "                           prompt=FIRST_PROMPT, \n",
    "                           temperature=0.7, \n",
    "                           num_ctx=100, \n",
    "                           num_predict=50)\n",
    "\n",
    "# Get the first response\n",
    "time, response_1 = model_req(payload=payload_1)\n",
    "print(response_1)\n",
    "\n",
    "# Create the second payload based on the first response\n",
    "payload_2 = create_payload(target=\"ollama\",\n",
    "                           model=\"llama3.2:latest\", \n",
    "                           prompt=f\"{SECOND_PROMPT}\\n{response_1}\", \n",
    "                           temperature=0.7, \n",
    "                           num_ctx=100, \n",
    "                           num_predict=10)\n",
    "\n",
    "# Get the second response\n",
    "time, response_2 = model_req(payload=payload_2)\n",
    "print(response_2)\n",
    "\n",
    "# Print execution time if available\n",
    "if time: \n",
    "    print(f'Time taken: {time}s')\n"
   ]
  },
  {
   "cell_type": "code",
   "execution_count": null,
   "metadata": {},
   "outputs": [],
   "source": []
  }
 ],
 "metadata": {
  "kernelspec": {
   "display_name": "base",
   "language": "python",
   "name": "python3"
  },
  "language_info": {
   "codemirror_mode": {
    "name": "ipython",
    "version": 3
   },
   "file_extension": ".py",
   "mimetype": "text/x-python",
   "name": "python",
   "nbconvert_exporter": "python",
   "pygments_lexer": "ipython3",
   "version": "3.12.4"
  }
 },
 "nbformat": 4,
 "nbformat_minor": 2
}
