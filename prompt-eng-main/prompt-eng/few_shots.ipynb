{
 "cells": [
  {
   "cell_type": "markdown",
   "metadata": {},
   "source": [
    "\n",
    "\n"
   ]
  },
  {
   "cell_type": "markdown",
   "metadata": {},
   "source": [
    "# Few-Shots Prompting\n",
    "\n",
    "Few-shot prompting can be used as a technique to enable in-context learning where we provide demonstrations in the prompt to steer the model to better performance. The demonstrations serve as conditioning for subsequent examples where we would like the model to generate a response.\n",
    "\n",
    "## References:\n",
    "* [Touvron et al. 2023](https://arxiv.org/pdf/2302.13971.pdf): present few shot properties  when models were scaled to a sufficient size\n",
    "* [Kaplan et al., 2020](https://arxiv.org/abs/2001.08361)\n",
    "* [Brown et al. 2020](https://arxiv.org/abs/2005.14165)\n"
   ]
  },
  {
   "cell_type": "markdown",
   "metadata": {},
   "source": [
    "## Running this code on MyBind.org\n",
    "\n",
    "Note: remember that you will need to **adjust CONFIG** with **proper URL and API_KEY**!\n",
    "\n",
    "[![Binder](https://mybinder.org/badge_logo.svg)](https://mybinder.org/v2/gh/GenILab-FAU/prompt-eng/HEAD?urlpath=%2Fdoc%2Ftree%2Fprompt-eng%2Ffew_shots.ipynb)\n",
    "\n"
   ]
  },
  {
   "cell_type": "code",
   "execution_count": 1,
   "metadata": {},
   "outputs": [
    {
     "name": "stdout",
     "output_type": "stream",
     "text": [
      "{'model': 'llama3.2:latest', 'prompt': \"\\nProvide a requirement analysis for building a nutrition and fitness bot that uses Few-Shot Prompting. The bot should be trained with a few example queries and responses to provide accurate answers. For example:\\n\\nUser: 'How many grams of protein should I consume daily?'\\nBot: 'For a moderate activity level, aim for 1.2–1.7g of protein per kilogram of body weight.'\\nUser: 'What are some good exercises for toning my arms?'\\nBot: 'Push-ups, bicep curls, and tricep dips.' The bot should learn from a small number of examples and adapt to provide personalized answers, using the context provided by the user’s age, weight, and fitness goal.\", 'stream': False, 'options': {'temperature': 0.7, 'num_ctx': 70, 'num_predict': 100}}\n",
      "Here's an example of how I can be trained to provide personalized advice on exercise routines based on a user's age, weight, and fitness goal:\n",
      "\n",
      "**Training Data**\n",
      "\n",
      "I'm given a dataset containing information about various individuals with different characteristics, such as:\n",
      "\n",
      "* Age: 25-45 years old\n",
      "* Weight: 50-80 kg\n",
      "* Fitness Level: Sedentary to moderately active\n",
      "* Goals: Weight loss or general fitness\n",
      "\n",
      "I also have access to information about the effectiveness of\n",
      "Time taken: 40.387s\n"
     ]
    }
   ],
   "source": [
    "##\n",
    "## FEW SHOTS PROMPTING\n",
    "##\n",
    "\n",
    "from _pipeline import create_payload, model_req\n",
    "\n",
    "from _pipeline import create_payload, model_req\n",
    "\n",
    "#### (1) Adjust the inbounding Prompt, simulating inbounding requests from users or other systems\n",
    "#MESSAGE = \"Which is healthier for weight loss: brown rice or quinoa?\"\n",
    "\n",
    "#### (2) Adjust the Prompt Engineering Technique to be applied, simulating Workflow Templates\n",
    "FEW_SHOT = \\\n",
    "f\"\"\"\n",
    "Provide a requirement analysis for building a nutrition and fitness bot that uses Few-Shot Prompting. The bot should be trained with a few example queries and responses to provide accurate answers. For example:\n",
    "\n",
    "User: 'How many grams of protein should I consume daily?'\n",
    "Bot: 'For a moderate activity level, aim for 1.2–1.7g of protein per kilogram of body weight.'\n",
    "User: 'What are some good exercises for toning my arms?'\n",
    "Bot: 'Push-ups, bicep curls, and tricep dips.' The bot should learn from a small number of examples and adapt to provide personalized answers, using the context provided by the user’s age, weight, and fitness goal.\"\"\"\n",
    "\n",
    "PROMPT = FEW_SHOT  \n",
    "\n",
    "#### (3) Configure the Model request, simulating Workflow Orchestration\n",
    "# Documentation: https://github.com/ollama/ollama/blob/main/docs/api.md\n",
    "payload = create_payload(target=\"ollama\",\n",
    "                         model=\"llama3.2:latest\", \n",
    "                         prompt=PROMPT, \n",
    "                         temperature=0.7, \n",
    "                         num_ctx=70, \n",
    "                         num_predict=100)\n",
    "\n",
    "### YOU DONT NEED TO CONFIGURE ANYTHING ELSE FROM THIS POINT\n",
    "# Send out to the model\n",
    "time, response = model_req(payload=payload)\n",
    "print(response)\n",
    "if time: print(f'Time taken: {time}s')"
   ]
  },
  {
   "cell_type": "code",
   "execution_count": null,
   "metadata": {},
   "outputs": [],
   "source": []
  }
 ],
 "metadata": {
  "kernelspec": {
   "display_name": "Python 3",
   "language": "python",
   "name": "python3"
  },
  "language_info": {
   "codemirror_mode": {
    "name": "ipython",
    "version": 3
   },
   "file_extension": ".py",
   "mimetype": "text/x-python",
   "name": "python",
   "nbconvert_exporter": "python",
   "pygments_lexer": "ipython3",
   "version": "3.13.2"
  }
 },
 "nbformat": 4,
 "nbformat_minor": 2
}
