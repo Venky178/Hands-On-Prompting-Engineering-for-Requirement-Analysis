{
 "cells": [
  {
   "cell_type": "markdown",
   "metadata": {},
   "source": [
    "\n",
    "\n"
   ]
  },
  {
   "cell_type": "markdown",
   "metadata": {},
   "source": [
    "# Meta Prompting\n",
    "\n",
    "Meta prompting is an advanced technique in prompt engineering that emphasizes the structural and syntactical organization of tasks and problems rather than focusing on their specific content. The objective is to create a more abstract, form-driven way of engaging with large language models (LLMs), highlighting patterns and structure over traditional content-focused methods.\n",
    "\n",
    "As outlined by [Zhang et al. (2024)](https://arxiv.org/abs/2311.11482), the defining features of meta prompting include:\n",
    "\n",
    "* Structure-Oriented: Prioritizes the organization and pattern of problems and solutions instead of specific content.\n",
    "* Syntax-Guided: Leverages syntax as a template to shape the expected responses or solutions.\n",
    "* Abstract Frameworks: Uses abstract examples as blueprints, demonstrating the structure of tasks without relying on concrete details.\n",
    "* Domain Versatility: Can be applied across multiple fields, offering structured solutions to diverse problem types.\n",
    "* Categorical Approach: Draws on type theory to organize and categorize components logically, enhancing prompt coherence and precision."
   ]
  },
  {
   "cell_type": "markdown",
   "metadata": {},
   "source": [
    "## Running this code on MyBind.org\n",
    "\n",
    "Note: remember that you will need to **adjust CONFIG** with **proper URL and API_KEY**!\n",
    "\n",
    "[![Binder](https://mybinder.org/badge_logo.svg)](https://mybinder.org/v2/gh/GenILab-FAU/prompt-eng/HEAD?urlpath=%2Fdoc%2Ftree%2Fprompt-eng%2Fmeta.ipynb)\n",
    "\n"
   ]
  },
  {
   "cell_type": "code",
   "execution_count": 8,
   "metadata": {},
   "outputs": [
    {
     "name": "stdout",
     "output_type": "stream",
     "text": [
      "{'model': 'llama3.2:latest', 'prompt': \"\\nProvide a requirement analysis for building a nutrition and fitness bot that uses Meta Prompting. The bot should first analyze the question from the user and then generate relevant background information or context before providing an answer. This will allow the bot to generate personalized recommendations based on the user's age, goal, and fitness level. For example:\\n\\nUser asks: 'How much protein should I be eating for muscle gain?'\\nBot analyzes the question, identifies that the user is likely focused on strength training, and responds: 'For muscle gain, aim for 1.6–2.2g of protein per kilogram of body weight, depending on the intensity of your training.' The bot should assess the question before offering a customized response.\\n\", 'stream': False, 'options': {'temperature': 1.0, 'num_ctx': 90, 'num_predict': 50}}\n",
      "Here's an example of how the bot could assess the question and offer a more personalized response:\n",
      "\n",
      "**Initial Response**\n",
      "The bot initially responds with: \"To answer your question, you'll need to provide me with some information about yourself or the specific topic\n",
      "Time taken: 16.956s\n"
     ]
    }
   ],
   "source": [
    "##\n",
    "## META PROMPTING - NUTRITION & FITNESS BOT\n",
    "##\n",
    "\n",
    "from _pipeline import create_payload, model_req\n",
    "\n",
    "#### (1) Adjust the inbounding Prompt, simulating inbounding requests from users or other systems\n",
    "\n",
    "\n",
    "#### (2) Apply the Meta Prompting Technique  \n",
    "\n",
    "META_PROMPT = f\"\"\"\n",
    "Provide a requirement analysis for building a nutrition and fitness bot that uses Meta Prompting. The bot should first analyze the question from the user and then generate relevant background information or context before providing an answer. This will allow the bot to generate personalized recommendations based on the user's age, goal, and fitness level. For example:\n",
    "\n",
    "User asks: 'How much protein should I be eating for muscle gain?'\n",
    "Bot analyzes the question, identifies that the user is likely focused on strength training, and responds: 'For muscle gain, aim for 1.6–2.2g of protein per kilogram of body weight, depending on the intensity of your training.' The bot should assess the question before offering a customized response.\n",
    "\"\"\"\n",
    "\n",
    "#### (3) Configure the Model Request, Simulating Workflow Orchestration  \n",
    "# Documentation: https://github.com/ollama/ollama/blob/main/docs/api.md\n",
    "payload = create_payload(target=\"ollama\",\n",
    "                         model=\"llama3.2:latest\", \n",
    "                         prompt=META_PROMPT, \n",
    "                         temperature=1.0, \n",
    "                         num_ctx=90, \n",
    "                         num_predict=50)\n",
    "\n",
    "### YOU DON'T NEED TO CONFIGURE ANYTHING ELSE FROM THIS POINT\n",
    "# Send out to the model\n",
    "time, response = model_req(payload=payload)\n",
    "print(response)\n",
    "if time: print(f'Time taken: {time}s')\n"
   ]
  },
  {
   "cell_type": "code",
   "execution_count": null,
   "metadata": {},
   "outputs": [],
   "source": []
  }
 ],
 "metadata": {
  "kernelspec": {
   "display_name": "base",
   "language": "python",
   "name": "python3"
  },
  "language_info": {
   "codemirror_mode": {
    "name": "ipython",
    "version": 3
   },
   "file_extension": ".py",
   "mimetype": "text/x-python",
   "name": "python",
   "nbconvert_exporter": "python",
   "pygments_lexer": "ipython3",
   "version": "3.12.4"
  }
 },
 "nbformat": 4,
 "nbformat_minor": 2
}
