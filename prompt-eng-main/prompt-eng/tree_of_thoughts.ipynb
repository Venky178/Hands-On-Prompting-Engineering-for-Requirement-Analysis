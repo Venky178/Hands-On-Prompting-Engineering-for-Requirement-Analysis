{
 "cells": [
  {
   "cell_type": "code",
   "execution_count": 5,
   "metadata": {},
   "outputs": [
    {
     "name": "stdout",
     "output_type": "stream",
     "text": [
      "{'model': 'llama3.2:latest', 'prompt': \"\\nProvide a requirement analysis for building a nutrition and fitness bot that uses Tree of Thoughts (TOT). The bot should take the user's inputs (age, weight, fitness goal) and generate multiple pathways, each corresponding to different diet plans, exercise routines, or lifestyle changes. Each pathway should branch out into further options, and the bot should evaluate the pros and cons of each branch, helping the user choose the best option. The bot should allow for adjustments based on user feedback, iterating over the tree and refining recommendations over time. For example:\\n\\nPathway 1: Low-calorie diet, cardio exercises for weight loss.\\nPathway 2: High-protein diet, strength training for muscle gain.\\nPathway 3: Balanced diet, mixed cardio and strength exercises for general fitness. The bot should continuously refine and offer alternative paths based on user preferences and progress, ensuring personalized, adaptable recommendations\\n\", 'stream': False, 'options': {'temperature': 1.0, 'num_ctx': 100, 'num_predict': 50}}\n",
      "Here's a more detailed design concept:\n",
      "\n",
      "**Name:** FitGenie\n",
      "\n",
      "**Tagline:** Your personal fitness coach, always adapting to your needs\n",
      "\n",
      "**Overview:**\n",
      "FitGenie is an AI-powered chatbot that offers personalized fitness advice and guidance\n",
      "Time taken: 17.499s\n"
     ]
    }
   ],
   "source": [
    "##\n",
    "## TREE OF THOUGHTS PROMPTING - NUTRITION & FITNESS BOT\n",
    "##\n",
    "\n",
    "from _pipeline import create_payload, model_req\n",
    "\n",
    "\n",
    "PROMPT = \\\n",
    "f\"\"\"\n",
    "Provide a requirement analysis for building a nutrition and fitness bot that uses Tree of Thoughts (TOT). The bot should take the user's inputs (age, weight, fitness goal) and generate multiple pathways, each corresponding to different diet plans, exercise routines, or lifestyle changes. Each pathway should branch out into further options, and the bot should evaluate the pros and cons of each branch, helping the user choose the best option. The bot should allow for adjustments based on user feedback, iterating over the tree and refining recommendations over time. For example:\n",
    "\n",
    "Pathway 1: Low-calorie diet, cardio exercises for weight loss.\n",
    "Pathway 2: High-protein diet, strength training for muscle gain.\n",
    "Pathway 3: Balanced diet, mixed cardio and strength exercises for general fitness. The bot should continuously refine and offer alternative paths based on user preferences and progress, ensuring personalized, adaptable recommendations\n",
    "\"\"\"\n",
    "\n",
    "payload = create_payload(target=\"ollama\",\n",
    "                         model=\"llama3.2:latest\", \n",
    "                         prompt=PROMPT, \n",
    "                         temperature=1.0, \n",
    "                         num_ctx=100, \n",
    "                         num_predict=50)\n",
    "\n",
    "time, response = model_req(payload=payload)\n",
    "print(response)\n",
    "if time: print(f'Time taken: {time}s')\n"
   ]
  },
  {
   "cell_type": "code",
   "execution_count": null,
   "metadata": {},
   "outputs": [],
   "source": []
  }
 ],
 "metadata": {
  "kernelspec": {
   "display_name": "base",
   "language": "python",
   "name": "python3"
  },
  "language_info": {
   "codemirror_mode": {
    "name": "ipython",
    "version": 3
   },
   "file_extension": ".py",
   "mimetype": "text/x-python",
   "name": "python",
   "nbconvert_exporter": "python",
   "pygments_lexer": "ipython3",
   "version": "3.12.4"
  }
 },
 "nbformat": 4,
 "nbformat_minor": 2
}
